{
 "cells": [
  {
   "cell_type": "markdown",
   "metadata": {
    "scrolled": true
   },
   "source": [
    "## Exercises"
   ]
  },
  {
   "cell_type": "markdown",
   "metadata": {},
   "source": [
    "Note that ***Reading and Understanding the Instructions*** is part of doing your work. This is always true, but especially in this coursework there are places where you will invariably get lost if you don't follow this strategy."
   ]
  },
  {
   "cell_type": "markdown",
   "metadata": {},
   "source": [
    "### Exercise 1: Nested lists"
   ]
  },
  {
   "cell_type": "markdown",
   "metadata": {},
   "source": [
    "If we remove the `sum()` in the code of Exercise 2, we don't compute the sum of list entries, and the output is a list whose entries are themselves lists. "
   ]
  },
  {
   "cell_type": "code",
   "execution_count": 63,
   "metadata": {},
   "outputs": [
    {
     "name": "stdout",
     "output_type": "stream",
     "text": [
      "[0, 1, 8, 27, 64]\n",
      "[[], [1], [1, 7], [1, 7, 19], [1, 7, 19, 37]]\n"
     ]
    }
   ],
   "source": [
    "print([sum([3*k*(k+1)+1 for k in range(n)]) for n in range(5)])\n",
    "print([    [3*k*(k+1)+1 for k in range(n)]  for n in range(5)])"
   ]
  },
  {
   "cell_type": "markdown",
   "metadata": {},
   "source": [
    "**Make sure you really understand the above code** (for example, why in the second print statement the first list entry is given by `[]`). \n",
    "\n",
    "It might help to pull the code apart a bit more. The code `[3*k*(k+1)+1 for k in range(n)]` gets computed five times, for values of $n$ from $0$ to 4:"
   ]
  },
  {
   "cell_type": "code",
   "execution_count": 64,
   "metadata": {
    "scrolled": true
   },
   "outputs": [
    {
     "name": "stdout",
     "output_type": "stream",
     "text": [
      "[]\n",
      "[1]\n",
      "[1, 7]\n",
      "[1, 7, 19]\n",
      "[1, 7, 19, 37]\n"
     ]
    }
   ],
   "source": [
    "print([3*k*(k+1)+1 for k in range(0)])\n",
    "print([3*k*(k+1)+1 for k in range(1)])\n",
    "print([3*k*(k+1)+1 for k in range(2)])\n",
    "print([3*k*(k+1)+1 for k in range(3)])\n",
    "print([3*k*(k+1)+1 for k in range(4)])"
   ]
  },
  {
   "cell_type": "markdown",
   "metadata": {},
   "source": [
    "The five results of these computations then get put into a list, producing the output given above."
   ]
  },
  {
   "cell_type": "markdown",
   "metadata": {},
   "source": [
    "Once you you understand what is going on here, you can now test your understanding by trying to create the following three lists of lists using list comprehension."
   ]
  },
  {
   "cell_type": "markdown",
   "metadata": {},
   "source": [
    "#### Exercise 1.a: Using list comprehension, create \n",
    "$$[[0, 0], [1, 1], [2, 4], [3, 9], [4, 16], [5, 25], [6, 36], [7, 49]]\\;,$$ \n",
    "$$[[0], [0, 1], [0,1,2], [0,1,2,3], [0,1,2,3,4]]\\;,$$\n",
    "$$[[1], [1, 2], [1,2,3], [1,2,3,4], [1,2,3,4,5], [1,2,3,4,5,6]]\\;.$$"
   ]
  },
  {
   "cell_type": "markdown",
   "metadata": {},
   "source": [
    "**Hint:** if you don't immediately see the patterns, try first using pen and paper to write down some ideas and test them."
   ]
  },
  {
   "cell_type": "code",
   "execution_count": 87,
   "metadata": {
    "scrolled": false
   },
   "outputs": [
    {
     "name": "stdout",
     "output_type": "stream",
     "text": [
      "List 1:  [[0, 0], [1, 1], [2, 4], [3, 9], [4, 16], [5, 25], [6, 36], [7, 49]]\n",
      "\n",
      "\n",
      "List 2:  [[0], [0, 1], [0, 1, 2], [0, 1, 2, 3], [0, 1, 2, 3, 4]]\n",
      "\n",
      "\n",
      "List 3:  [[1], [1, 2], [1, 2, 3], [1, 2, 3, 4], [1, 2, 3, 4, 5], [1, 2, 3, 4, 5, 6]]\n"
     ]
    }
   ],
   "source": [
    "print('List 1: ', [[k,k**2] for k in range(8)])\n",
    "print('\\n')\n",
    "print('List 2: ',[[(k+1)-1 for k in range(n)]for n in range(1,6)])\n",
    "print('\\n')\n",
    "print('List 3: ',[[(k+1) for k in range(n)]for n in range(1,7)])"
   ]
  },
  {
   "cell_type": "markdown",
   "metadata": {},
   "source": [
    "### Exercise 2: The Mertens function"
   ]
  },
  {
   "cell_type": "markdown",
   "metadata": {},
   "source": [
    "Similar to our discussion of Euler's totient function $\\varphi(n)$, we would like you to look at the Mertens function $M(n)$, which is defined as\n",
    "$$M(n)=\\sum_{k=1}^n\\mu(k)$$\n",
    "where $\\mu(k)$ is the Möbius function given by\n",
    "$$\\mu(k)=\\begin{cases}0&\\text{if $k$ has zero or more repeated prime factors}\\\\1&\\text{if $k=1$}\\\\-1^j&\\text{if $k$ is a product of $j$ distinct primes.}\\end{cases}$$\n",
    "\n",
    "We can import the Möbius function from sympy."
   ]
  },
  {
   "cell_type": "code",
   "execution_count": 66,
   "metadata": {
    "scrolled": false
   },
   "outputs": [
    {
     "name": "stdout",
     "output_type": "stream",
     "text": [
      "[1, -1, -1, 0, -1, 1, -1, 0, 0, 1, -1, 0, -1, 1, 1, 0, -1, 0, -1, 0, 1, 1, -1, 0, 0, 1, 0, 0, -1, -1, -1, 0, 1, 1, 1, 0, -1, 1, 1, 0, -1, -1, -1, 0, 0, 1, -1, 0, 0, 0, 1, 0, -1, 0, 1, 0, 1, 1, -1, 0, -1, 1, 0, 0, 1, -1, -1, 0, 1, -1, -1, 0, -1, 1, 0, 0, 1, -1, -1, 0, 0, 1, -1, 0, 1, 1, 1, 0, -1, 0, 1, 0, 1, 1, 1, 0, -1, 0, 0]\n"
     ]
    }
   ],
   "source": [
    "from sympy.ntheory import mobius\n",
    "print([mobius(k) for k in range(1,100)])"
   ]
  },
  {
   "cell_type": "markdown",
   "metadata": {},
   "source": [
    "### Exercise 2.a: Reproduce the plot of the Mertens function shown below"
   ]
  },
  {
   "attachments": {
    "image.png": {
     "image/png": "[encoded data removed]"
    }
   },
   "cell_type": "markdown",
   "metadata": {},
   "source": [
    "![image.png](attachment:image.png)"
   ]
  },
  {
   "cell_type": "code",
   "execution_count": 67,
   "metadata": {},
   "outputs": [
    {
     "data": {
      "image/png": "[encoded data removed]",
      "text/plain": [
       "<Figure size 432x288 with 1 Axes>"
      ]
     },
     "metadata": {
      "needs_background": "light"
     },
     "output_type": "display_data"
    }
   ],
   "source": [
    "import matplotlib.pyplot as plt\n",
    "x = list(range(0,1000))\n",
    "y = [sum([mobius(k) for k in range(1,n)]) for n in range(1000)]\n",
    "\n",
    "plt.xlim([0,1000])\n",
    "plt.ylim([-12.5,12.5])\n",
    "plt.xlabel('n')\n",
    "plt.ylabel('M(n)')\n",
    "plt.title('Mertens Function')\n",
    "plt.plot(x,y,c='blue')\n",
    "\n",
    "plt.show()"
   ]
  },
  {
   "cell_type": "markdown",
   "metadata": {},
   "source": [
    "### Exercise 3: Convergence and Divergence of Infinite Sums"
   ]
  },
  {
   "cell_type": "markdown",
   "metadata": {},
   "source": [
    "The Taylor series $$\\log(1+x)=\\sum_{k=1}^\\infty\\frac{(-1)^{k-1}}kx^k$$ converges for $-1<x<1$. The question of convergence and divergence at $x=1$ and $x=-1$ is subtle."
   ]
  },
  {
   "cell_type": "markdown",
   "metadata": {},
   "source": [
    "#### Exercise 3.a: To study numerically the behaviour of the partial sums for $x=1$ and $x=-1$, create plots of the first $1000$ partial sums $$\\sum_{k=1}^n\\frac{(-1)^{k-1}}k\\quad\\text{and}\\quad\\sum_{k=1}^n\\frac1k$$ versus $\\log(n)$.\n",
    "\n",
    "Remember that in order to plot points, you need to create a list of $x$-coordinates and a list of $y$-coordinates of the points you want to plot. Here the $x$-coordinates are given by $\\log(n)$ and the $y$-coordinates by the partial sums of the first $n$ terms."
   ]
  },
  {
   "cell_type": "code",
   "execution_count": 107,
   "metadata": {},
   "outputs": [
    {
     "data": {
      "image/png": "[encoded data removed]",
      "text/plain": [
       "<Figure size 432x288 with 1 Axes>"
      ]
     },
     "metadata": {
      "needs_background": "light"
     },
     "output_type": "display_data"
    }
   ],
   "source": [
    "import math\n",
    "x = [math.log(n) for n in range(1, 1000)]\n",
    "y_0 = [sum([((-1)**(k-1))/k for k in range(1,n+1)]) for n in range(1,1000)]\n",
    "y_1 = [sum([1/k for k in range(1,n+1)]) for n in range(1,1000)]\n",
    "\n",
    "\n",
    "plt.ylim([0,5])\n",
    "plt.plot(x, y_0, \".\", markersize=3, label='((-1)^(k-1))/k')\n",
    "plt.plot(x, y_1, \".\", markersize=3, label='1/k')\n",
    "plt.legend()\n",
    "\n",
    "plt.show()"
   ]
  },
  {
   "cell_type": "markdown",
   "metadata": {},
   "source": [
    "#### Exercise 3.b: What do the plots suggest about the convergence of the infinite sums for $x=1$ and $x=-1$?"
   ]
  },
  {
   "cell_type": "markdown",
   "metadata": {},
   "source": [
    "It seems that the infinite sum diverges for x=-1 and converges for x=1."
   ]
  },
  {
   "cell_type": "markdown",
   "metadata": {},
   "source": [
    "### Exercise 4: More on the Riemann Zeta Function"
   ]
  },
  {
   "cell_type": "markdown",
   "metadata": {},
   "source": [
    "This is a continuation of last week's exercise, to do more numerical computations using our improved knowledge of Python. Recall the two expressions of the Riemann Zeta function \n",
    "$$\\zeta(s)=\\sum_{n=1}^\\infty\\frac1{n^s}\\;.$$\n",
    "$\\zeta(s)$ also can be expressed as an infinite product over all primes,\n",
    "$$\\zeta(s)=\\prod_p\\left(\\frac1{1-p^{-s}}\\right)\\;,$$\n",
    "where the product is over the primes $p=2,3,5,7,11,13,\\ldots$. "
   ]
  },
  {
   "cell_type": "markdown",
   "metadata": {},
   "source": [
    "Last week you computed a few partial sums and partial products using up to six terms. Using list comprehension, we can simplify the code quite considerably."
   ]
  },
  {
   "cell_type": "markdown",
   "metadata": {},
   "source": [
    "#### Exercise 4.a: Compute the $100$th, $200$th and $400$th partial sums for $s=2,3,4$. For $s=2$ and $s=4$, compare against the exactly known values. For $s=3$, an exact value is not known, so we need to use the function `zeta` from the `scipy` module to compare (you used this one last week). How many digits agreement do you find with the $400$th partial sums?"
   ]
  },
  {
   "cell_type": "code",
   "execution_count": 85,
   "metadata": {},
   "outputs": [
    {
     "name": "stdout",
     "output_type": "stream",
     "text": [
      "The 100th partial sum for s = 2 is 1.6349839001848923\n",
      "The 100th partial sum for s = 3 is 1.2020074006596781\n",
      "The 100th partial sum for s = 4 is 1.0823229053444727\n",
      "\n",
      "\n",
      "The 200th partial sum for s = 2 is 1.6399465460149971\n",
      "The 200th partial sum for s = 3 is 1.2020444655033462\n",
      "The 200th partial sum for s = 4 is 1.082323192355929\n",
      "\n",
      "\n",
      "The 400th partial sum for s = 2 is 1.6424371892440628\n",
      "The 400th partial sum for s = 3 is 1.2020537859623281\n",
      "The 400th partial sum for s = 4 is 1.0823232285223028\n",
      "\n",
      "\n",
      "The exact value of the Riemann zeta fucntion at s = 2 is: 1.6449340668482264\n",
      "The exact value of the Riemann zeta fucntion at s = 3 is: 1.2020569031595942\n",
      "The exact value of the Riemann zeta fucntion at s = 4 is: 1.082323233711138\n"
     ]
    }
   ],
   "source": [
    "from sympy import prime\n",
    "import scipy.special\n",
    "zeta=scipy.special.zeta\n",
    "\n",
    "def zeta_sum(r, s):\n",
    "    summation = 0\n",
    "    for n in range(1, r+1):     \n",
    "        a = 1/(n**s)\n",
    "        summation = summation + a\n",
    "    return summation\n",
    "\n",
    "for r in [100,200,400]:\n",
    "    print(f'The {r}th partial sum for s = 2 is ' + str(zeta_sum(r, 2)))\n",
    "    print(f'The {r}th partial sum for s = 3 is ' + str(zeta_sum(r, 3)))\n",
    "    print(f'The {r}th partial sum for s = 4 is ' + str(zeta_sum(r, 4)))\n",
    "    print('\\n') \n",
    "\n",
    "print('The exact value of the Riemann zeta fucntion at s = 2 is: ' + str((math.pi**2)/6))\n",
    "print('The exact value of the Riemann zeta fucntion at s = 3 is: ' + str(zeta(3)))\n",
    "print('The exact value of the Riemann zeta fucntion at s = 4 is: ' + str((math.pi**4)/90))"
   ]
  },
  {
   "cell_type": "markdown",
   "metadata": {},
   "source": [
    "### For the 400th partial sum:\n",
    "\n",
    "- at s = 2 we find 3 digits of agreement.\n",
    "- at s = 3 we find 6 digits of agreement.\n",
    "- at s = 4 we find 8 digits of agreement."
   ]
  },
  {
   "cell_type": "markdown",
   "metadata": {},
   "source": [
    "For the product formula we need an easy way of accessing the $n$-th prime. Fortunately, there already exists a prime function in a Python module (you can find stuff like this with Google) which we can access using `from sympy import prime`."
   ]
  },
  {
   "cell_type": "markdown",
   "metadata": {},
   "source": [
    "#### Exercise 4.b: Using `prime()`, print a list of the first $20$ prime numbers, and print the $1000$th prime number."
   ]
  },
  {
   "cell_type": "code",
   "execution_count": 71,
   "metadata": {},
   "outputs": [
    {
     "name": "stdout",
     "output_type": "stream",
     "text": [
      "The the first 20 primes are:  [2, 3, 5, 7, 11, 13, 17, 19, 23, 29, 31, 37, 41, 43, 47, 53, 59, 61, 67]\n",
      "The 1000th prime is:  7919\n"
     ]
    }
   ],
   "source": [
    "primes_list = []\n",
    "\n",
    "for n in range(1, 20):\n",
    "    primes_list.append(prime(n))\n",
    "\n",
    "        \n",
    "print('The the first 20 primes are: ', primes_list)\n",
    "print('The 1000th prime is: ', prime(1000))"
   ]
  },
  {
   "cell_type": "markdown",
   "metadata": {},
   "source": [
    "Similarly to summing up numbers in a list, we can multiply them as well, using 'numpy.prod()' instead of 'sum()'."
   ]
  },
  {
   "cell_type": "markdown",
   "metadata": {},
   "source": [
    "#### Exercise 4.c: Compute the $100$th, $200$th and $400$th partial products for $s=2,3,4$., and compare against the known values. How many digits agreement do you find with the $400$th partial products?\n",
    "\n",
    "You will notice that your code takes considerably more time to execute, due to the need to repeatedly use multiplication, division, powers, and calling `prime()`. "
   ]
  },
  {
   "cell_type": "code",
   "execution_count": 72,
   "metadata": {},
   "outputs": [
    {
     "name": "stdout",
     "output_type": "stream",
     "text": [
      "The 100th partial product for s = 2 is 1.6445152217242918\n",
      "The 100th partial product for s = 3 is 1.2020566021795083\n",
      "The 100th partial product for s = 4 is 1.082323233369198\n",
      "\n",
      "\n",
      "The 200th partial product for s = 2 is 1.6447685061588626\n",
      "The 200th partial product for s = 3 is 1.2020568511172716\n",
      "The 200th partial product for s = 4 is 1.0823232336851547\n",
      "\n",
      "\n",
      "The 400th partial product for s = 2 is 1.644867084167859\n",
      "The 400th partial product for s = 3 is 1.202056893843724\n",
      "The 400th partial product for s = 4 is 1.0823232337090953\n",
      "\n",
      "\n",
      "The exact value of the Riemann zeta fucntion at s = 2 is: 1.6449340668482264\n",
      "The exact value of the Riemann zeta fucntion at s = 3 is: 1.2020569031595942\n",
      "The exact value of the Riemann zeta fucntion at s = 4 is: 1.082323233711138\n"
     ]
    }
   ],
   "source": [
    "primes_list = []\n",
    "\n",
    "for n in range(2, 101):         \n",
    "    primes_list.append(prime(n))\n",
    "\n",
    "for s in [2,3,4]:\n",
    "    \n",
    "    product = 1/(1-2**(-s))\n",
    "    for p in primes_list:\n",
    "        b = 1 / (1-p**(-s))\n",
    "        product = product * b\n",
    "    print(f'The 100th partial product for s = {s} is {product}')\n",
    "\n",
    "print('\\n')\n",
    "primes_list = []\n",
    "\n",
    "for n in range(2, 201):         \n",
    "    primes_list.append(prime(n))\n",
    "\n",
    "for s in [2,3,4]:\n",
    "    \n",
    "    product = 1/(1-2**(-s))\n",
    "    for p in primes_list:\n",
    "        b = 1 / (1-p**(-s))\n",
    "        product = product * b\n",
    "    print(f'The 200th partial product for s = {s} is {product}')\n",
    "    \n",
    "print('\\n')    \n",
    "primes_list = []\n",
    "\n",
    "for n in range(2, 401):         \n",
    "    primes_list.append(prime(n))\n",
    "\n",
    "for s in [2,3,4]:\n",
    "    \n",
    "    product = 1/(1-2**(-s))\n",
    "    for p in primes_list:\n",
    "        b = 1 / (1-p**(-s))\n",
    "        product = product * b\n",
    "    print(f'The 400th partial product for s = {s} is {product}')\n",
    "    \n",
    "print('\\n')    \n",
    "print('The exact value of the Riemann zeta fucntion at s = 2 is: ' + str((math.pi**2)/6))\n",
    "print('The exact value of the Riemann zeta fucntion at s = 3 is: ' + str(zeta(3)))\n",
    "print('The exact value of the Riemann zeta fucntion at s = 4 is: ' + str((math.pi**4)/90))"
   ]
  },
  {
   "cell_type": "markdown",
   "metadata": {},
   "source": [
    "## Submit your Jupyter Notebook to QMPLUS"
   ]
  },
  {
   "cell_type": "markdown",
   "metadata": {},
   "source": [
    "Once you are done, save the jupyter notebook and submit it to QMPLUS under Lab Report Week 3."
   ]
  }
 ],
 "metadata": {
  "kernelspec": {
   "display_name": "Python 3",
   "language": "python",
   "name": "python3"
  },
  "language_info": {
   "codemirror_mode": {
    "name": "ipython",
    "version": 3
   },
   "file_extension": ".py",
   "mimetype": "text/x-python",
   "name": "python",
   "nbconvert_exporter": "python",
   "pygments_lexer": "ipython3",
   "version": "3.8.5"
  }
 },
 "nbformat": 4,
 "nbformat_minor": 2
}
